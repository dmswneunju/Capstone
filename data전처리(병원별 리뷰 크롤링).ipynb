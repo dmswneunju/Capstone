{
 "cells": [
  {
   "cell_type": "code",
   "execution_count": 11,
   "metadata": {},
   "outputs": [],
   "source": [
    "import pandas as pd\n",
    "df = pd.read_csv('요양병원.csv',encoding='CP949')"
   ]
  },
  {
   "cell_type": "code",
   "execution_count": 5,
   "metadata": {},
   "outputs": [
    {
     "data": {
      "text/html": [
       "<div>\n",
       "<style scoped>\n",
       "    .dataframe tbody tr th:only-of-type {\n",
       "        vertical-align: middle;\n",
       "    }\n",
       "\n",
       "    .dataframe tbody tr th {\n",
       "        vertical-align: top;\n",
       "    }\n",
       "\n",
       "    .dataframe thead th {\n",
       "        text-align: right;\n",
       "    }\n",
       "</style>\n",
       "<table border=\"1\" class=\"dataframe\">\n",
       "  <thead>\n",
       "    <tr style=\"text-align: right;\">\n",
       "      <th></th>\n",
       "      <th>주소</th>\n",
       "      <th>병원이름</th>\n",
       "      <th>구분</th>\n",
       "    </tr>\n",
       "  </thead>\n",
       "  <tbody>\n",
       "    <tr>\n",
       "      <td>0</td>\n",
       "      <td>전라북도 김제시 남북로 202, (요촌동)</td>\n",
       "      <td>(의) 예림의료재단 청록요양병원</td>\n",
       "      <td>요양병원</td>\n",
       "    </tr>\n",
       "    <tr>\n",
       "      <td>1</td>\n",
       "      <td>경기도 안산시 상록구 용신로 352, (본오동, 목화웨딩홀)</td>\n",
       "      <td>(의)대선의료재단으뜸요양병원</td>\n",
       "      <td>요양병원</td>\n",
       "    </tr>\n",
       "    <tr>\n",
       "      <td>2</td>\n",
       "      <td>경상남도 김해시 김해대로 2479-1, (삼정동)</td>\n",
       "      <td>(의)밀성학원의료재단 성모요양병원</td>\n",
       "      <td>요양병원</td>\n",
       "    </tr>\n",
       "    <tr>\n",
       "      <td>3</td>\n",
       "      <td>울산광역시 울주군 서생면 용리길 165-11, ()</td>\n",
       "      <td>(의)성덕의료재단 간절곶자연요양병원</td>\n",
       "      <td>요양병원</td>\n",
       "    </tr>\n",
       "    <tr>\n",
       "      <td>4</td>\n",
       "      <td>경상남도 김해시 금관대로1084번길 15, (흥동)[*미고시]</td>\n",
       "      <td>(의)수의료재단 서청솔요양병원</td>\n",
       "      <td>요양병원</td>\n",
       "    </tr>\n",
       "    <tr>\n",
       "      <td>...</td>\n",
       "      <td>...</td>\n",
       "      <td>...</td>\n",
       "      <td>...</td>\n",
       "    </tr>\n",
       "    <tr>\n",
       "      <td>1414</td>\n",
       "      <td>인천광역시 연수구 용담로 118, 지하2층~지상9층 (연수동)</td>\n",
       "      <td>희망찬요양병원</td>\n",
       "      <td>요양병원</td>\n",
       "    </tr>\n",
       "    <tr>\n",
       "      <td>1415</td>\n",
       "      <td>경상남도 창원시 성산구 원이대로393번길 25, 케이프타운 2-4층 일부, 지하1-...</td>\n",
       "      <td>희연요양병원</td>\n",
       "      <td>요양병원</td>\n",
       "    </tr>\n",
       "    <tr>\n",
       "      <td>1416</td>\n",
       "      <td>경상남도 밀양시 부북면 춘화로 60, ()</td>\n",
       "      <td>희윤요양병원</td>\n",
       "      <td>요양병원</td>\n",
       "    </tr>\n",
       "    <tr>\n",
       "      <td>1417</td>\n",
       "      <td>인천광역시 중구 영종대로 106,  (운서동)</td>\n",
       "      <td>힐락암요양병원</td>\n",
       "      <td>요양병원</td>\n",
       "    </tr>\n",
       "    <tr>\n",
       "      <td>1418</td>\n",
       "      <td>전라북도 전주시 덕진구 떡전로 15-0,  (덕진동1가)</td>\n",
       "      <td>힐링요양병원</td>\n",
       "      <td>요양병원</td>\n",
       "    </tr>\n",
       "  </tbody>\n",
       "</table>\n",
       "<p>1419 rows × 3 columns</p>\n",
       "</div>"
      ],
      "text/plain": [
       "                                                     주소                 병원이름  \\\n",
       "0                               전라북도 김제시 남북로 202, (요촌동)    (의) 예림의료재단 청록요양병원   \n",
       "1                     경기도 안산시 상록구 용신로 352, (본오동, 목화웨딩홀)      (의)대선의료재단으뜸요양병원   \n",
       "2                           경상남도 김해시 김해대로 2479-1, (삼정동)   (의)밀성학원의료재단 성모요양병원   \n",
       "3                          울산광역시 울주군 서생면 용리길 165-11, ()  (의)성덕의료재단 간절곶자연요양병원   \n",
       "4                    경상남도 김해시 금관대로1084번길 15, (흥동)[*미고시]     (의)수의료재단 서청솔요양병원   \n",
       "...                                                 ...                  ...   \n",
       "1414                 인천광역시 연수구 용담로 118, 지하2층~지상9층 (연수동)              희망찬요양병원   \n",
       "1415  경상남도 창원시 성산구 원이대로393번길 25, 케이프타운 2-4층 일부, 지하1-...               희연요양병원   \n",
       "1416                            경상남도 밀양시 부북면 춘화로 60, ()               희윤요양병원   \n",
       "1417                          인천광역시 중구 영종대로 106,  (운서동)              힐락암요양병원   \n",
       "1418                    전라북도 전주시 덕진구 떡전로 15-0,  (덕진동1가)               힐링요양병원   \n",
       "\n",
       "        구분  \n",
       "0     요양병원  \n",
       "1     요양병원  \n",
       "2     요양병원  \n",
       "3     요양병원  \n",
       "4     요양병원  \n",
       "...    ...  \n",
       "1414  요양병원  \n",
       "1415  요양병원  \n",
       "1416  요양병원  \n",
       "1417  요양병원  \n",
       "1418  요양병원  \n",
       "\n",
       "[1419 rows x 3 columns]"
      ]
     },
     "execution_count": 5,
     "metadata": {},
     "output_type": "execute_result"
    }
   ],
   "source": [
    "df"
   ]
  },
  {
   "cell_type": "code",
   "execution_count": 8,
   "metadata": {},
   "outputs": [
    {
     "data": {
      "text/plain": [
       "우리요양병원               5\n",
       "큰사랑요양병원              5\n",
       "연세요양병원               5\n",
       "현대요양병원               5\n",
       "한사랑요양병원              4\n",
       "                    ..\n",
       "벧엘요양병원               1\n",
       "대림요양병원               1\n",
       "성운요양병원               1\n",
       "수원행복한요양병원            1\n",
       "의료법인인덕의료재단 경도요양병원    1\n",
       "Name: 병원이름, Length: 1331, dtype: int64"
      ]
     },
     "execution_count": 8,
     "metadata": {},
     "output_type": "execute_result"
    }
   ],
   "source": [
    "df['병원이름'].value_counts() #중복된 병원이름 존재."
   ]
  },
  {
   "cell_type": "code",
   "execution_count": 9,
   "metadata": {},
   "outputs": [
    {
     "data": {
      "text/plain": [
       "경기도 화성시 우정읍 남양만로 662, (우정읍)                                   1\n",
       "울산광역시 울주군 온양읍 덕남로 233, ()                                     1\n",
       "경상남도 김해시 분성로 433, (삼정동)                                       1\n",
       "경기도 시흥시 수인로3325번길 10, 3층 301호, 302호, 306~309호 (신천동, 우명프라자)    1\n",
       "대전광역시 중구 계백로 1546-0, 대전중부새마을금고                                1\n",
       "                                                             ..\n",
       "광주광역시 광산구 풍영정길 227-1, (신창동)                                   1\n",
       "경상남도 양산시 북안남6길 6, (북부동)                                       1\n",
       "부산광역시 부산진구 새싹로 186, (연지동)                                     1\n",
       "경상남도 김해시 진영읍 진영로454번길 102-10, ()                              1\n",
       "인천광역시 남동구 백범로 398, 새마을금고중앙회 (간석동)                             1\n",
       "Name: 주소, Length: 1419, dtype: int64"
      ]
     },
     "execution_count": 9,
     "metadata": {},
     "output_type": "execute_result"
    }
   ],
   "source": [
    "df['주소'].value_counts() #주소로 분류하면 고유한 병원데이터 가져올 수 있음."
   ]
  },
  {
   "cell_type": "code",
   "execution_count": 20,
   "metadata": {},
   "outputs": [
    {
     "name": "stderr",
     "output_type": "stream",
     "text": [
      "C:\\Anaconda3\\lib\\site-packages\\ipykernel_launcher.py:1: UserWarning: Boolean Series key will be reindexed to match DataFrame index.\n",
      "  \"\"\"Entry point for launching an IPython kernel.\n"
     ]
    },
    {
     "data": {
      "text/html": [
       "<div>\n",
       "<style scoped>\n",
       "    .dataframe tbody tr th:only-of-type {\n",
       "        vertical-align: middle;\n",
       "    }\n",
       "\n",
       "    .dataframe tbody tr th {\n",
       "        vertical-align: top;\n",
       "    }\n",
       "\n",
       "    .dataframe thead th {\n",
       "        text-align: right;\n",
       "    }\n",
       "</style>\n",
       "<table border=\"1\" class=\"dataframe\">\n",
       "  <thead>\n",
       "    <tr style=\"text-align: right;\">\n",
       "      <th></th>\n",
       "      <th>요양기관명</th>\n",
       "      <th>요양종별</th>\n",
       "      <th>시도명</th>\n",
       "      <th>시군구명</th>\n",
       "      <th>도로명주소</th>\n",
       "      <th>표시과목코드</th>\n",
       "      <th>표시과목명</th>\n",
       "      <th>개설일자</th>\n",
       "    </tr>\n",
       "  </thead>\n",
       "  <tbody>\n",
       "    <tr>\n",
       "      <td>1771</td>\n",
       "      <td>아미나요양병원</td>\n",
       "      <td>요양병원</td>\n",
       "      <td>서울특별시</td>\n",
       "      <td>종로구</td>\n",
       "      <td>서울특별시 종로구 경희궁길 26, 썬타워빌딩 지하1층, 지상2,3,4,5,6,7층 ...</td>\n",
       "      <td>NaN</td>\n",
       "      <td>해당사항없음</td>\n",
       "      <td>2021-05-27</td>\n",
       "    </tr>\n",
       "    <tr>\n",
       "      <td>1772</td>\n",
       "      <td>굿모닝요양병원</td>\n",
       "      <td>요양병원</td>\n",
       "      <td>서울특별시</td>\n",
       "      <td>성동구</td>\n",
       "      <td>서울특별시 성동구 천호대로 436, 2~7층 (용답동)</td>\n",
       "      <td>NaN</td>\n",
       "      <td>해당사항없음</td>\n",
       "      <td>2017-08-04</td>\n",
       "    </tr>\n",
       "    <tr>\n",
       "      <td>1773</td>\n",
       "      <td>서울효사랑요양병원</td>\n",
       "      <td>요양병원</td>\n",
       "      <td>서울특별시</td>\n",
       "      <td>성동구</td>\n",
       "      <td>서울특별시 성동구 동일로 93 (성수동2가)</td>\n",
       "      <td>NaN</td>\n",
       "      <td>해당사항없음</td>\n",
       "      <td>2009-06-03</td>\n",
       "    </tr>\n",
       "    <tr>\n",
       "      <td>1774</td>\n",
       "      <td>시온요양병원</td>\n",
       "      <td>요양병원</td>\n",
       "      <td>서울특별시</td>\n",
       "      <td>성동구</td>\n",
       "      <td>서울특별시 성동구 자동차시장1길 85, 지하1,지상3~5층 (용답동, JS빌딩)</td>\n",
       "      <td>NaN</td>\n",
       "      <td>해당사항없음</td>\n",
       "      <td>2016-02-16</td>\n",
       "    </tr>\n",
       "    <tr>\n",
       "      <td>1775</td>\n",
       "      <td>동부참사랑요양병원</td>\n",
       "      <td>요양병원</td>\n",
       "      <td>서울특별시</td>\n",
       "      <td>광진구</td>\n",
       "      <td>서울특별시 광진구 동일로 154 (화양동)</td>\n",
       "      <td>NaN</td>\n",
       "      <td>해당사항없음</td>\n",
       "      <td>2017-12-11</td>\n",
       "    </tr>\n",
       "    <tr>\n",
       "      <td>...</td>\n",
       "      <td>...</td>\n",
       "      <td>...</td>\n",
       "      <td>...</td>\n",
       "      <td>...</td>\n",
       "      <td>...</td>\n",
       "      <td>...</td>\n",
       "      <td>...</td>\n",
       "      <td>...</td>\n",
       "    </tr>\n",
       "    <tr>\n",
       "      <td>3201</td>\n",
       "      <td>제주의료원부속요양병원</td>\n",
       "      <td>요양병원</td>\n",
       "      <td>제주특별자치도</td>\n",
       "      <td>제주시</td>\n",
       "      <td>제주특별자치도 제주시 산천단남길 10 (아라일동, 제주의료원)</td>\n",
       "      <td>NaN</td>\n",
       "      <td>해당사항없음</td>\n",
       "      <td>2016-11-18</td>\n",
       "    </tr>\n",
       "    <tr>\n",
       "      <td>3202</td>\n",
       "      <td>제주제일요양병원</td>\n",
       "      <td>요양병원</td>\n",
       "      <td>제주특별자치도</td>\n",
       "      <td>제주시</td>\n",
       "      <td>제주특별자치도 제주시 연삼로 16 (연동)</td>\n",
       "      <td>NaN</td>\n",
       "      <td>해당사항없음</td>\n",
       "      <td>2015-03-05</td>\n",
       "    </tr>\n",
       "    <tr>\n",
       "      <td>3203</td>\n",
       "      <td>제주하늘의료소비자생활협동조합제주하늘요양병원</td>\n",
       "      <td>요양병원</td>\n",
       "      <td>제주특별자치도</td>\n",
       "      <td>제주시</td>\n",
       "      <td>제주특별자치도 제주시 서사로 40, 3,5,6층 (삼도일동)</td>\n",
       "      <td>NaN</td>\n",
       "      <td>해당사항없음</td>\n",
       "      <td>2022-03-28</td>\n",
       "    </tr>\n",
       "    <tr>\n",
       "      <td>3204</td>\n",
       "      <td>지오요양병원</td>\n",
       "      <td>요양병원</td>\n",
       "      <td>제주특별자치도</td>\n",
       "      <td>제주시</td>\n",
       "      <td>제주특별자치도 제주시 서광로 222 (삼도일동)</td>\n",
       "      <td>NaN</td>\n",
       "      <td>해당사항없음</td>\n",
       "      <td>2019-02-14</td>\n",
       "    </tr>\n",
       "    <tr>\n",
       "      <td>3205</td>\n",
       "      <td>토마토요양병원</td>\n",
       "      <td>요양병원</td>\n",
       "      <td>제주특별자치도</td>\n",
       "      <td>제주시</td>\n",
       "      <td>제주특별자치도 제주시 동광로 42 (이도이동)</td>\n",
       "      <td>NaN</td>\n",
       "      <td>해당사항없음</td>\n",
       "      <td>2013-01-31</td>\n",
       "    </tr>\n",
       "  </tbody>\n",
       "</table>\n",
       "<p>1435 rows × 8 columns</p>\n",
       "</div>"
      ],
      "text/plain": [
       "                        요양기관명  요양종별      시도명 시군구명  \\\n",
       "1771                  아미나요양병원  요양병원    서울특별시  종로구   \n",
       "1772                  굿모닝요양병원  요양병원    서울특별시  성동구   \n",
       "1773                서울효사랑요양병원  요양병원    서울특별시  성동구   \n",
       "1774                   시온요양병원  요양병원    서울특별시  성동구   \n",
       "1775                동부참사랑요양병원  요양병원    서울특별시  광진구   \n",
       "...                       ...   ...      ...  ...   \n",
       "3201              제주의료원부속요양병원  요양병원  제주특별자치도  제주시   \n",
       "3202                 제주제일요양병원  요양병원  제주특별자치도  제주시   \n",
       "3203  제주하늘의료소비자생활협동조합제주하늘요양병원  요양병원  제주특별자치도  제주시   \n",
       "3204                   지오요양병원  요양병원  제주특별자치도  제주시   \n",
       "3205                  토마토요양병원  요양병원  제주특별자치도  제주시   \n",
       "\n",
       "                                                  도로명주소  표시과목코드   표시과목명  \\\n",
       "1771  서울특별시 종로구 경희궁길 26, 썬타워빌딩 지하1층, 지상2,3,4,5,6,7층 ...     NaN  해당사항없음   \n",
       "1772                     서울특별시 성동구 천호대로 436, 2~7층 (용답동)     NaN  해당사항없음   \n",
       "1773                           서울특별시 성동구 동일로 93 (성수동2가)     NaN  해당사항없음   \n",
       "1774       서울특별시 성동구 자동차시장1길 85, 지하1,지상3~5층 (용답동, JS빌딩)     NaN  해당사항없음   \n",
       "1775                            서울특별시 광진구 동일로 154 (화양동)     NaN  해당사항없음   \n",
       "...                                                 ...     ...     ...   \n",
       "3201                 제주특별자치도 제주시 산천단남길 10 (아라일동, 제주의료원)     NaN  해당사항없음   \n",
       "3202                            제주특별자치도 제주시 연삼로 16 (연동)     NaN  해당사항없음   \n",
       "3203                  제주특별자치도 제주시 서사로 40, 3,5,6층 (삼도일동)     NaN  해당사항없음   \n",
       "3204                         제주특별자치도 제주시 서광로 222 (삼도일동)     NaN  해당사항없음   \n",
       "3205                          제주특별자치도 제주시 동광로 42 (이도이동)     NaN  해당사항없음   \n",
       "\n",
       "            개설일자  \n",
       "1771  2021-05-27  \n",
       "1772  2017-08-04  \n",
       "1773  2009-06-03  \n",
       "1774  2016-02-16  \n",
       "1775  2017-12-11  \n",
       "...          ...  \n",
       "3201  2016-11-18  \n",
       "3202  2015-03-05  \n",
       "3203  2022-03-28  \n",
       "3204  2019-02-14  \n",
       "3205  2013-01-31  \n",
       "\n",
       "[1435 rows x 8 columns]"
      ]
     },
     "execution_count": 20,
     "metadata": {},
     "output_type": "execute_result"
    }
   ],
   "source": [
    "import pandas as pd\n",
    "from selenium import webdriver\n",
    "from selenium.webdriver.common.keys import Keys \n",
    "from selenium.common.exceptions import NoSuchElementException \n",
    "\n",
    "import time\n",
    "import re\n",
    "from bs4 import BeautifulSoup \n",
    "from tqdm import tqdm \n",
    "\n",
    "df = pd.read_csv('요양병원.csv',encoding='CP949') \n",
    "df['naver_map_url'] = '' # 미리 url을 담을 column을 만들어줌 \n",
    "\n",
    "driver = webdriver.Chrome(executable_path=r'C:\\Users\\ejyhe\\chromedriver.exe') # 웹드라이버가 설치된 경로를 지정해주시면 됩니다."
   ]
  },
  {
   "cell_type": "code",
   "execution_count": 29,
   "metadata": {},
   "outputs": [
    {
     "ename": "KeyError",
     "evalue": "'시도명'",
     "output_type": "error",
     "traceback": [
      "\u001b[1;31m---------------------------------------------------------------------------\u001b[0m",
      "\u001b[1;31mKeyError\u001b[0m                                  Traceback (most recent call last)",
      "\u001b[1;32m<ipython-input-29-137fbd271009>\u001b[0m in \u001b[0;36m<module>\u001b[1;34m\u001b[0m\n\u001b[1;32m----> 1\u001b[1;33m \u001b[0mdata\u001b[0m\u001b[1;33m[\u001b[0m\u001b[1;34m'시도명'\u001b[0m\u001b[1;33m]\u001b[0m\u001b[1;33m.\u001b[0m\u001b[0mvalue_counts\u001b[0m\u001b[1;33m(\u001b[0m\u001b[1;33m)\u001b[0m\u001b[1;33m\u001b[0m\u001b[1;33m\u001b[0m\u001b[0m\n\u001b[0m",
      "\u001b[1;32mC:\\Anaconda3\\lib\\site-packages\\pandas\\core\\series.py\u001b[0m in \u001b[0;36m__getitem__\u001b[1;34m(self, key)\u001b[0m\n\u001b[0;32m   1066\u001b[0m         \u001b[0mkey\u001b[0m \u001b[1;33m=\u001b[0m \u001b[0mcom\u001b[0m\u001b[1;33m.\u001b[0m\u001b[0mapply_if_callable\u001b[0m\u001b[1;33m(\u001b[0m\u001b[0mkey\u001b[0m\u001b[1;33m,\u001b[0m \u001b[0mself\u001b[0m\u001b[1;33m)\u001b[0m\u001b[1;33m\u001b[0m\u001b[1;33m\u001b[0m\u001b[0m\n\u001b[0;32m   1067\u001b[0m         \u001b[1;32mtry\u001b[0m\u001b[1;33m:\u001b[0m\u001b[1;33m\u001b[0m\u001b[1;33m\u001b[0m\u001b[0m\n\u001b[1;32m-> 1068\u001b[1;33m             \u001b[0mresult\u001b[0m \u001b[1;33m=\u001b[0m \u001b[0mself\u001b[0m\u001b[1;33m.\u001b[0m\u001b[0mindex\u001b[0m\u001b[1;33m.\u001b[0m\u001b[0mget_value\u001b[0m\u001b[1;33m(\u001b[0m\u001b[0mself\u001b[0m\u001b[1;33m,\u001b[0m \u001b[0mkey\u001b[0m\u001b[1;33m)\u001b[0m\u001b[1;33m\u001b[0m\u001b[1;33m\u001b[0m\u001b[0m\n\u001b[0m\u001b[0;32m   1069\u001b[0m \u001b[1;33m\u001b[0m\u001b[0m\n\u001b[0;32m   1070\u001b[0m             \u001b[1;32mif\u001b[0m \u001b[1;32mnot\u001b[0m \u001b[0mis_scalar\u001b[0m\u001b[1;33m(\u001b[0m\u001b[0mresult\u001b[0m\u001b[1;33m)\u001b[0m\u001b[1;33m:\u001b[0m\u001b[1;33m\u001b[0m\u001b[1;33m\u001b[0m\u001b[0m\n",
      "\u001b[1;32mC:\\Anaconda3\\lib\\site-packages\\pandas\\core\\indexes\\base.py\u001b[0m in \u001b[0;36mget_value\u001b[1;34m(self, series, key)\u001b[0m\n\u001b[0;32m   4728\u001b[0m         \u001b[0mk\u001b[0m \u001b[1;33m=\u001b[0m \u001b[0mself\u001b[0m\u001b[1;33m.\u001b[0m\u001b[0m_convert_scalar_indexer\u001b[0m\u001b[1;33m(\u001b[0m\u001b[0mk\u001b[0m\u001b[1;33m,\u001b[0m \u001b[0mkind\u001b[0m\u001b[1;33m=\u001b[0m\u001b[1;34m\"getitem\"\u001b[0m\u001b[1;33m)\u001b[0m\u001b[1;33m\u001b[0m\u001b[1;33m\u001b[0m\u001b[0m\n\u001b[0;32m   4729\u001b[0m         \u001b[1;32mtry\u001b[0m\u001b[1;33m:\u001b[0m\u001b[1;33m\u001b[0m\u001b[1;33m\u001b[0m\u001b[0m\n\u001b[1;32m-> 4730\u001b[1;33m             \u001b[1;32mreturn\u001b[0m \u001b[0mself\u001b[0m\u001b[1;33m.\u001b[0m\u001b[0m_engine\u001b[0m\u001b[1;33m.\u001b[0m\u001b[0mget_value\u001b[0m\u001b[1;33m(\u001b[0m\u001b[0ms\u001b[0m\u001b[1;33m,\u001b[0m \u001b[0mk\u001b[0m\u001b[1;33m,\u001b[0m \u001b[0mtz\u001b[0m\u001b[1;33m=\u001b[0m\u001b[0mgetattr\u001b[0m\u001b[1;33m(\u001b[0m\u001b[0mseries\u001b[0m\u001b[1;33m.\u001b[0m\u001b[0mdtype\u001b[0m\u001b[1;33m,\u001b[0m \u001b[1;34m\"tz\"\u001b[0m\u001b[1;33m,\u001b[0m \u001b[1;32mNone\u001b[0m\u001b[1;33m)\u001b[0m\u001b[1;33m)\u001b[0m\u001b[1;33m\u001b[0m\u001b[1;33m\u001b[0m\u001b[0m\n\u001b[0m\u001b[0;32m   4731\u001b[0m         \u001b[1;32mexcept\u001b[0m \u001b[0mKeyError\u001b[0m \u001b[1;32mas\u001b[0m \u001b[0me1\u001b[0m\u001b[1;33m:\u001b[0m\u001b[1;33m\u001b[0m\u001b[1;33m\u001b[0m\u001b[0m\n\u001b[0;32m   4732\u001b[0m             \u001b[1;32mif\u001b[0m \u001b[0mlen\u001b[0m\u001b[1;33m(\u001b[0m\u001b[0mself\u001b[0m\u001b[1;33m)\u001b[0m \u001b[1;33m>\u001b[0m \u001b[1;36m0\u001b[0m \u001b[1;32mand\u001b[0m \u001b[1;33m(\u001b[0m\u001b[0mself\u001b[0m\u001b[1;33m.\u001b[0m\u001b[0mholds_integer\u001b[0m\u001b[1;33m(\u001b[0m\u001b[1;33m)\u001b[0m \u001b[1;32mor\u001b[0m \u001b[0mself\u001b[0m\u001b[1;33m.\u001b[0m\u001b[0mis_boolean\u001b[0m\u001b[1;33m(\u001b[0m\u001b[1;33m)\u001b[0m\u001b[1;33m)\u001b[0m\u001b[1;33m:\u001b[0m\u001b[1;33m\u001b[0m\u001b[1;33m\u001b[0m\u001b[0m\n",
      "\u001b[1;32mpandas\\_libs\\index.pyx\u001b[0m in \u001b[0;36mpandas._libs.index.IndexEngine.get_value\u001b[1;34m()\u001b[0m\n",
      "\u001b[1;32mpandas\\_libs\\index.pyx\u001b[0m in \u001b[0;36mpandas._libs.index.IndexEngine.get_value\u001b[1;34m()\u001b[0m\n",
      "\u001b[1;32mpandas\\_libs\\index.pyx\u001b[0m in \u001b[0;36mpandas._libs.index.IndexEngine.get_loc\u001b[1;34m()\u001b[0m\n",
      "\u001b[1;32mpandas\\_libs\\index_class_helper.pxi\u001b[0m in \u001b[0;36mpandas._libs.index.Int64Engine._check_type\u001b[1;34m()\u001b[0m\n",
      "\u001b[1;31mKeyError\u001b[0m: '시도명'"
     ]
    }
   ],
   "source": [
    "data['시도명'].value_counts()"
   ]
  },
  {
   "cell_type": "code",
   "execution_count": 31,
   "metadata": {},
   "outputs": [
    {
     "data": {
      "text/plain": [
       "0"
      ]
     },
     "execution_count": 31,
     "metadata": {},
     "output_type": "execute_result"
    }
   ],
   "source": [
    "data.isnull().sum()"
   ]
  },
  {
   "cell_type": "code",
   "execution_count": 33,
   "metadata": {},
   "outputs": [
    {
     "data": {
      "text/plain": [
       "0"
      ]
     },
     "execution_count": 33,
     "metadata": {},
     "output_type": "execute_result"
    }
   ],
   "source": [
    "data.isna().sum()"
   ]
  },
  {
   "cell_type": "code",
   "execution_count": 36,
   "metadata": {},
   "outputs": [
    {
     "ename": "KeyError",
     "evalue": "'요양기관명'",
     "output_type": "error",
     "traceback": [
      "\u001b[1;31m---------------------------------------------------------------------------\u001b[0m",
      "\u001b[1;31mKeyError\u001b[0m                                  Traceback (most recent call last)",
      "\u001b[1;32m<ipython-input-36-9222aa096590>\u001b[0m in \u001b[0;36m<module>\u001b[1;34m\u001b[0m\n\u001b[1;32m----> 1\u001b[1;33m \u001b[0mdata\u001b[0m\u001b[1;33m[\u001b[0m\u001b[1;34m\"요양기관명\"\u001b[0m\u001b[1;33m]\u001b[0m\u001b[1;33m.\u001b[0m\u001b[0munique\u001b[0m\u001b[1;33m(\u001b[0m\u001b[1;33m)\u001b[0m\u001b[1;33m\u001b[0m\u001b[1;33m\u001b[0m\u001b[0m\n\u001b[0m",
      "\u001b[1;32mC:\\Anaconda3\\lib\\site-packages\\pandas\\core\\series.py\u001b[0m in \u001b[0;36m__getitem__\u001b[1;34m(self, key)\u001b[0m\n\u001b[0;32m   1066\u001b[0m         \u001b[0mkey\u001b[0m \u001b[1;33m=\u001b[0m \u001b[0mcom\u001b[0m\u001b[1;33m.\u001b[0m\u001b[0mapply_if_callable\u001b[0m\u001b[1;33m(\u001b[0m\u001b[0mkey\u001b[0m\u001b[1;33m,\u001b[0m \u001b[0mself\u001b[0m\u001b[1;33m)\u001b[0m\u001b[1;33m\u001b[0m\u001b[1;33m\u001b[0m\u001b[0m\n\u001b[0;32m   1067\u001b[0m         \u001b[1;32mtry\u001b[0m\u001b[1;33m:\u001b[0m\u001b[1;33m\u001b[0m\u001b[1;33m\u001b[0m\u001b[0m\n\u001b[1;32m-> 1068\u001b[1;33m             \u001b[0mresult\u001b[0m \u001b[1;33m=\u001b[0m \u001b[0mself\u001b[0m\u001b[1;33m.\u001b[0m\u001b[0mindex\u001b[0m\u001b[1;33m.\u001b[0m\u001b[0mget_value\u001b[0m\u001b[1;33m(\u001b[0m\u001b[0mself\u001b[0m\u001b[1;33m,\u001b[0m \u001b[0mkey\u001b[0m\u001b[1;33m)\u001b[0m\u001b[1;33m\u001b[0m\u001b[1;33m\u001b[0m\u001b[0m\n\u001b[0m\u001b[0;32m   1069\u001b[0m \u001b[1;33m\u001b[0m\u001b[0m\n\u001b[0;32m   1070\u001b[0m             \u001b[1;32mif\u001b[0m \u001b[1;32mnot\u001b[0m \u001b[0mis_scalar\u001b[0m\u001b[1;33m(\u001b[0m\u001b[0mresult\u001b[0m\u001b[1;33m)\u001b[0m\u001b[1;33m:\u001b[0m\u001b[1;33m\u001b[0m\u001b[1;33m\u001b[0m\u001b[0m\n",
      "\u001b[1;32mC:\\Anaconda3\\lib\\site-packages\\pandas\\core\\indexes\\base.py\u001b[0m in \u001b[0;36mget_value\u001b[1;34m(self, series, key)\u001b[0m\n\u001b[0;32m   4728\u001b[0m         \u001b[0mk\u001b[0m \u001b[1;33m=\u001b[0m \u001b[0mself\u001b[0m\u001b[1;33m.\u001b[0m\u001b[0m_convert_scalar_indexer\u001b[0m\u001b[1;33m(\u001b[0m\u001b[0mk\u001b[0m\u001b[1;33m,\u001b[0m \u001b[0mkind\u001b[0m\u001b[1;33m=\u001b[0m\u001b[1;34m\"getitem\"\u001b[0m\u001b[1;33m)\u001b[0m\u001b[1;33m\u001b[0m\u001b[1;33m\u001b[0m\u001b[0m\n\u001b[0;32m   4729\u001b[0m         \u001b[1;32mtry\u001b[0m\u001b[1;33m:\u001b[0m\u001b[1;33m\u001b[0m\u001b[1;33m\u001b[0m\u001b[0m\n\u001b[1;32m-> 4730\u001b[1;33m             \u001b[1;32mreturn\u001b[0m \u001b[0mself\u001b[0m\u001b[1;33m.\u001b[0m\u001b[0m_engine\u001b[0m\u001b[1;33m.\u001b[0m\u001b[0mget_value\u001b[0m\u001b[1;33m(\u001b[0m\u001b[0ms\u001b[0m\u001b[1;33m,\u001b[0m \u001b[0mk\u001b[0m\u001b[1;33m,\u001b[0m \u001b[0mtz\u001b[0m\u001b[1;33m=\u001b[0m\u001b[0mgetattr\u001b[0m\u001b[1;33m(\u001b[0m\u001b[0mseries\u001b[0m\u001b[1;33m.\u001b[0m\u001b[0mdtype\u001b[0m\u001b[1;33m,\u001b[0m \u001b[1;34m\"tz\"\u001b[0m\u001b[1;33m,\u001b[0m \u001b[1;32mNone\u001b[0m\u001b[1;33m)\u001b[0m\u001b[1;33m)\u001b[0m\u001b[1;33m\u001b[0m\u001b[1;33m\u001b[0m\u001b[0m\n\u001b[0m\u001b[0;32m   4731\u001b[0m         \u001b[1;32mexcept\u001b[0m \u001b[0mKeyError\u001b[0m \u001b[1;32mas\u001b[0m \u001b[0me1\u001b[0m\u001b[1;33m:\u001b[0m\u001b[1;33m\u001b[0m\u001b[1;33m\u001b[0m\u001b[0m\n\u001b[0;32m   4732\u001b[0m             \u001b[1;32mif\u001b[0m \u001b[0mlen\u001b[0m\u001b[1;33m(\u001b[0m\u001b[0mself\u001b[0m\u001b[1;33m)\u001b[0m \u001b[1;33m>\u001b[0m \u001b[1;36m0\u001b[0m \u001b[1;32mand\u001b[0m \u001b[1;33m(\u001b[0m\u001b[0mself\u001b[0m\u001b[1;33m.\u001b[0m\u001b[0mholds_integer\u001b[0m\u001b[1;33m(\u001b[0m\u001b[1;33m)\u001b[0m \u001b[1;32mor\u001b[0m \u001b[0mself\u001b[0m\u001b[1;33m.\u001b[0m\u001b[0mis_boolean\u001b[0m\u001b[1;33m(\u001b[0m\u001b[1;33m)\u001b[0m\u001b[1;33m)\u001b[0m\u001b[1;33m:\u001b[0m\u001b[1;33m\u001b[0m\u001b[1;33m\u001b[0m\u001b[0m\n",
      "\u001b[1;32mpandas\\_libs\\index.pyx\u001b[0m in \u001b[0;36mpandas._libs.index.IndexEngine.get_value\u001b[1;34m()\u001b[0m\n",
      "\u001b[1;32mpandas\\_libs\\index.pyx\u001b[0m in \u001b[0;36mpandas._libs.index.IndexEngine.get_value\u001b[1;34m()\u001b[0m\n",
      "\u001b[1;32mpandas\\_libs\\index.pyx\u001b[0m in \u001b[0;36mpandas._libs.index.IndexEngine.get_loc\u001b[1;34m()\u001b[0m\n",
      "\u001b[1;32mpandas\\_libs\\index_class_helper.pxi\u001b[0m in \u001b[0;36mpandas._libs.index.Int64Engine._check_type\u001b[1;34m()\u001b[0m\n",
      "\u001b[1;31mKeyError\u001b[0m: '요양기관명'"
     ]
    }
   ],
   "source": [
    "data[\"요양기관명\"].unique()"
   ]
  },
  {
   "cell_type": "code",
   "execution_count": null,
   "metadata": {},
   "outputs": [],
   "source": []
  }
 ],
 "metadata": {
  "kernelspec": {
   "display_name": "Python 3",
   "language": "python",
   "name": "python3"
  },
  "language_info": {
   "codemirror_mode": {
    "name": "ipython",
    "version": 3
   },
   "file_extension": ".py",
   "mimetype": "text/x-python",
   "name": "python",
   "nbconvert_exporter": "python",
   "pygments_lexer": "ipython3",
   "version": "3.7.4"
  }
 },
 "nbformat": 4,
 "nbformat_minor": 2
}
