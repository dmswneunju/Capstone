{
 "cells": [
  {
   "cell_type": "code",
   "execution_count": 1,
   "id": "37d00337",
   "metadata": {},
   "outputs": [],
   "source": [
    "import pandas as pd"
   ]
  },
  {
   "cell_type": "code",
   "execution_count": 2,
   "id": "ade0c065",
   "metadata": {},
   "outputs": [
    {
     "data": {
      "text/html": [
       "<div>\n",
       "<style scoped>\n",
       "    .dataframe tbody tr th:only-of-type {\n",
       "        vertical-align: middle;\n",
       "    }\n",
       "\n",
       "    .dataframe tbody tr th {\n",
       "        vertical-align: top;\n",
       "    }\n",
       "\n",
       "    .dataframe thead th {\n",
       "        text-align: right;\n",
       "    }\n",
       "</style>\n",
       "<table border=\"1\" class=\"dataframe\">\n",
       "  <thead>\n",
       "    <tr style=\"text-align: right;\">\n",
       "      <th></th>\n",
       "      <th>id</th>\n",
       "      <th>name</th>\n",
       "      <th>location</th>\n",
       "      <th>phonenumber</th>\n",
       "      <th>category</th>\n",
       "      <th>province</th>\n",
       "      <th>xpos</th>\n",
       "      <th>ypos</th>\n",
       "      <th>average_rating</th>\n",
       "    </tr>\n",
       "  </thead>\n",
       "  <tbody>\n",
       "    <tr>\n",
       "      <th>0</th>\n",
       "      <td>1</td>\n",
       "      <td>해오름요양병원</td>\n",
       "      <td>경기도 안산시 단원구 선부동 1034번지 8호</td>\n",
       "      <td>NaN</td>\n",
       "      <td>침구과, 한방신경정신과, 한방안·이비인후·피부과, 한방내과, 비뇨기과, 정형외과, ...</td>\n",
       "      <td>경기</td>\n",
       "      <td>126.807603</td>\n",
       "      <td>37.342222</td>\n",
       "      <td>3.2</td>\n",
       "    </tr>\n",
       "    <tr>\n",
       "      <th>1</th>\n",
       "      <td>2</td>\n",
       "      <td>세명요양병원</td>\n",
       "      <td>경기도 안산시 상록구 본오1동 904번지 13호 외 1필지</td>\n",
       "      <td>NaN</td>\n",
       "      <td>침구과, 사상체질과, 한방재활의학과, 한방신경정신과, 한방안·이비인후·피부과, 한방...</td>\n",
       "      <td>경기</td>\n",
       "      <td>126.862995</td>\n",
       "      <td>37.290667</td>\n",
       "      <td>2.2</td>\n",
       "    </tr>\n",
       "    <tr>\n",
       "      <th>2</th>\n",
       "      <td>3</td>\n",
       "      <td>양주큰길요양병원</td>\n",
       "      <td>경기도 양주시 광적면 가납리 495-2번지</td>\n",
       "      <td>NaN</td>\n",
       "      <td>내과, 신경과, 외과, 정형외과, 신경외과, 산부인과, 재활의학과, 가정의학과, 한방내과</td>\n",
       "      <td>경기</td>\n",
       "      <td>126.995532</td>\n",
       "      <td>37.810187</td>\n",
       "      <td>3.0</td>\n",
       "    </tr>\n",
       "    <tr>\n",
       "      <th>3</th>\n",
       "      <td>4</td>\n",
       "      <td>중앙효요양병원</td>\n",
       "      <td>경기도 의정부시 의정부동 237번지 7호</td>\n",
       "      <td>NaN</td>\n",
       "      <td>외과, 침구과</td>\n",
       "      <td>경기</td>\n",
       "      <td>127.045456</td>\n",
       "      <td>37.746234</td>\n",
       "      <td>3.5</td>\n",
       "    </tr>\n",
       "    <tr>\n",
       "      <th>4</th>\n",
       "      <td>5</td>\n",
       "      <td>돌담요양병원</td>\n",
       "      <td>경기도 양주시 백석읍 기산리 381-5번지</td>\n",
       "      <td>NaN</td>\n",
       "      <td>침구과, 한방내과, 가정의학과, 마취통증의학과, 외과, 신경과, 내과</td>\n",
       "      <td>경기</td>\n",
       "      <td>126.937848</td>\n",
       "      <td>37.772088</td>\n",
       "      <td>3.1</td>\n",
       "    </tr>\n",
       "    <tr>\n",
       "      <th>...</th>\n",
       "      <td>...</td>\n",
       "      <td>...</td>\n",
       "      <td>...</td>\n",
       "      <td>...</td>\n",
       "      <td>...</td>\n",
       "      <td>...</td>\n",
       "      <td>...</td>\n",
       "      <td>...</td>\n",
       "      <td>...</td>\n",
       "    </tr>\n",
       "    <tr>\n",
       "      <th>1358</th>\n",
       "      <td>1359</td>\n",
       "      <td>의료법인홍익의료재단파스카요양병원</td>\n",
       "      <td>충청북도 청주시 청원구 내수읍 마산길 8-11, ()</td>\n",
       "      <td>043-900-1004</td>\n",
       "      <td>가정의학과</td>\n",
       "      <td>충북</td>\n",
       "      <td>127.538810</td>\n",
       "      <td>36.717401</td>\n",
       "      <td>1.8</td>\n",
       "    </tr>\n",
       "    <tr>\n",
       "      <th>1359</th>\n",
       "      <td>1360</td>\n",
       "      <td>이가양정요양병원</td>\n",
       "      <td>광주광역시 광산구 하남울로 10, (하남동)</td>\n",
       "      <td>062-675-7777</td>\n",
       "      <td>가정의학과</td>\n",
       "      <td>광주</td>\n",
       "      <td>126.802241</td>\n",
       "      <td>35.181146</td>\n",
       "      <td>3.3</td>\n",
       "    </tr>\n",
       "    <tr>\n",
       "      <th>1360</th>\n",
       "      <td>1361</td>\n",
       "      <td>평심요양병원</td>\n",
       "      <td>경상남도 양산시 하북면 신평로 37, 2~6층</td>\n",
       "      <td>055-800-7090</td>\n",
       "      <td>가정의학과</td>\n",
       "      <td>경남</td>\n",
       "      <td>129.086478</td>\n",
       "      <td>35.491624</td>\n",
       "      <td>2.3</td>\n",
       "    </tr>\n",
       "    <tr>\n",
       "      <th>1361</th>\n",
       "      <td>1362</td>\n",
       "      <td>현송요양병원</td>\n",
       "      <td>전라남도 여수시 해산4길 37-0,  (해산동)</td>\n",
       "      <td>061-691-1000</td>\n",
       "      <td>가정의학과</td>\n",
       "      <td>전남</td>\n",
       "      <td>127.633647</td>\n",
       "      <td>34.802020</td>\n",
       "      <td>5.0</td>\n",
       "    </tr>\n",
       "    <tr>\n",
       "      <th>1362</th>\n",
       "      <td>1363</td>\n",
       "      <td>혜민요양병원</td>\n",
       "      <td>강원도 평창군 봉평면 북길동길 17,</td>\n",
       "      <td>033-336-0216</td>\n",
       "      <td>가정의학과</td>\n",
       "      <td>강원</td>\n",
       "      <td>128.376613</td>\n",
       "      <td>37.623099</td>\n",
       "      <td>4.0</td>\n",
       "    </tr>\n",
       "  </tbody>\n",
       "</table>\n",
       "<p>1363 rows × 9 columns</p>\n",
       "</div>"
      ],
      "text/plain": [
       "        id               name                          location   phonenumber  \\\n",
       "0        1            해오름요양병원         경기도 안산시 단원구 선부동 1034번지 8호           NaN   \n",
       "1        2             세명요양병원  경기도 안산시 상록구 본오1동 904번지 13호 외 1필지           NaN   \n",
       "2        3           양주큰길요양병원           경기도 양주시 광적면 가납리 495-2번지           NaN   \n",
       "3        4            중앙효요양병원            경기도 의정부시 의정부동 237번지 7호           NaN   \n",
       "4        5             돌담요양병원           경기도 양주시 백석읍 기산리 381-5번지           NaN   \n",
       "...    ...                ...                               ...           ...   \n",
       "1358  1359  의료법인홍익의료재단파스카요양병원     충청북도 청주시 청원구 내수읍 마산길 8-11, ()  043-900-1004   \n",
       "1359  1360           이가양정요양병원          광주광역시 광산구 하남울로 10, (하남동)  062-675-7777   \n",
       "1360  1361             평심요양병원         경상남도 양산시 하북면 신평로 37, 2~6층  055-800-7090   \n",
       "1361  1362             현송요양병원        전라남도 여수시 해산4길 37-0,  (해산동)  061-691-1000   \n",
       "1362  1363             혜민요양병원              강원도 평창군 봉평면 북길동길 17,  033-336-0216   \n",
       "\n",
       "                                               category province        xpos  \\\n",
       "0     침구과, 한방신경정신과, 한방안·이비인후·피부과, 한방내과, 비뇨기과, 정형외과, ...       경기  126.807603   \n",
       "1     침구과, 사상체질과, 한방재활의학과, 한방신경정신과, 한방안·이비인후·피부과, 한방...       경기  126.862995   \n",
       "2     내과, 신경과, 외과, 정형외과, 신경외과, 산부인과, 재활의학과, 가정의학과, 한방내과       경기  126.995532   \n",
       "3                                               외과, 침구과       경기  127.045456   \n",
       "4                침구과, 한방내과, 가정의학과, 마취통증의학과, 외과, 신경과, 내과       경기  126.937848   \n",
       "...                                                 ...      ...         ...   \n",
       "1358                                              가정의학과       충북  127.538810   \n",
       "1359                                              가정의학과       광주  126.802241   \n",
       "1360                                              가정의학과       경남  129.086478   \n",
       "1361                                              가정의학과       전남  127.633647   \n",
       "1362                                              가정의학과       강원  128.376613   \n",
       "\n",
       "           ypos  average_rating  \n",
       "0     37.342222             3.2  \n",
       "1     37.290667             2.2  \n",
       "2     37.810187             3.0  \n",
       "3     37.746234             3.5  \n",
       "4     37.772088             3.1  \n",
       "...         ...             ...  \n",
       "1358  36.717401             1.8  \n",
       "1359  35.181146             3.3  \n",
       "1360  35.491624             2.3  \n",
       "1361  34.802020             5.0  \n",
       "1362  37.623099             4.0  \n",
       "\n",
       "[1363 rows x 9 columns]"
      ]
     },
     "execution_count": 2,
     "metadata": {},
     "output_type": "execute_result"
    }
   ],
   "source": [
    "meta1 = pd.read_csv('rating_plus_hospital.csv')\n",
    "meta1"
   ]
  },
  {
   "cell_type": "markdown",
   "id": "96489c2e",
   "metadata": {},
   "source": [
    "## 진료 카테고리 병원 추천"
   ]
  },
  {
   "cell_type": "markdown",
   "id": "677c49fc",
   "metadata": {},
   "source": [
    "### 카테고리 전처리"
   ]
  },
  {
   "cell_type": "code",
   "execution_count": 3,
   "id": "22571719",
   "metadata": {},
   "outputs": [
    {
     "name": "stdout",
     "output_type": "stream",
     "text": [
      "<class 'pandas.core.series.Series'>\n"
     ]
    }
   ],
   "source": [
    "category = meta1['category']\n",
    "print(type(category))"
   ]
  },
  {
   "cell_type": "code",
   "execution_count": 4,
   "id": "f39dc58f",
   "metadata": {},
   "outputs": [
    {
     "data": {
      "text/plain": [
       "내과                                                                                                      1092\n",
       "외과                                                                                                        66\n",
       "신경과                                                                                                       28\n",
       "가정의학과                                                                                                     20\n",
       "신경외과                                                                                                      14\n",
       "                                                                                                        ... \n",
       "한방재활의학과, 한방내과, 가정의학과, 외과, 신경과, 내과                                                                          1\n",
       "내과, 신경과, 외과, 정형외과, 신경외과, 산부인과, 재활의학과, 가정의학과, 한방내과, 한방부인과, 침구과                                              1\n",
       "내과, 신경과, 외과, 정형외과, 신경외과, 흉부외과, 피부과, 재활의학과, 가정의학과, 응급의학과, 한방내과, 한방부인과, 한방소아과, 한방안·이비인후·피부과, 한방신경정신과,        1\n",
       "내과, 신경과, 외과, 산부인과                                                                                          1\n",
       "내과, 신경과, 소아청소년과, 안과, 이비인후과, 피부과, 재활의학과, 가정의학과, 한방내과, 한방부인과, 한방소아과, 한방안·이비인후·피부과, 한방신경정신과, 한방재활의학과, 사       1\n",
       "Name: category, Length: 111, dtype: int64"
      ]
     },
     "execution_count": 4,
     "metadata": {},
     "output_type": "execute_result"
    }
   ],
   "source": [
    "category.value_counts()"
   ]
  },
  {
   "cell_type": "markdown",
   "id": "456ed76e",
   "metadata": {},
   "source": [
    "### 요양병원 진료과목 top10  \n",
    "내과              23635  \n",
    "피부과             16909  \n",
    "한방내과            16549  \n",
    "소아청소년과          15630  \n",
    "침구과             14900  \n",
    "한방부인과           14535  \n",
    "한방소아과           14274  \n",
    "한방안·이비인후·피부과    13994  \n",
    "한방신경정신과         13484  \n",
    "한방재활의학과         12792  "
   ]
  },
  {
   "cell_type": "code",
   "execution_count": 5,
   "id": "7604593e",
   "metadata": {},
   "outputs": [],
   "source": [
    "top10 = ['내과','피부과','한방내과','소아청소년과','침구과','한방부인과','한방소아과','한방안·이비인후·피부과','한방신경정신과','한방재활의학과']"
   ]
  },
  {
   "cell_type": "code",
   "execution_count": 6,
   "id": "420f1e7e",
   "metadata": {},
   "outputs": [
    {
     "data": {
      "text/plain": [
       "0       침구과, 한방신경정신과, 한방안·이비인후·피부과, 한방내과, 비뇨기과, 정형외과, ...\n",
       "1       침구과, 사상체질과, 한방재활의학과, 한방신경정신과, 한방안·이비인후·피부과, 한방...\n",
       "2       내과, 신경과, 외과, 정형외과, 신경외과, 산부인과, 재활의학과, 가정의학과, 한방내과\n",
       "3                                                 외과, 침구과\n",
       "4                  침구과, 한방내과, 가정의학과, 마취통증의학과, 외과, 신경과, 내과\n",
       "                              ...                        \n",
       "1358                                                가정의학과\n",
       "1359                                                가정의학과\n",
       "1360                                                가정의학과\n",
       "1361                                                가정의학과\n",
       "1362                                                가정의학과\n",
       "Name: category, Length: 1363, dtype: object"
      ]
     },
     "execution_count": 6,
     "metadata": {},
     "output_type": "execute_result"
    }
   ],
   "source": [
    "category"
   ]
  },
  {
   "cell_type": "markdown",
   "id": "f9c4594d",
   "metadata": {},
   "source": [
    "### category별 리스트화"
   ]
  },
  {
   "cell_type": "code",
   "execution_count": 7,
   "id": "d1946fcc",
   "metadata": {},
   "outputs": [
    {
     "data": {
      "text/plain": [
       "0    침구과, 한방신경정신과, 한방안·이비인후·피부과, 한방내과, 비뇨기과, 정형외과, ...\n",
       "1    침구과, 사상체질과, 한방재활의학과, 한방신경정신과, 한방안·이비인후·피부과, 한방...\n",
       "2    내과, 신경과, 외과, 정형외과, 신경외과, 산부인과, 재활의학과, 가정의학과, 한방내과\n",
       "3                                              외과, 침구과\n",
       "4               침구과, 한방내과, 가정의학과, 마취통증의학과, 외과, 신경과, 내과\n",
       "Name: category, dtype: object"
      ]
     },
     "execution_count": 7,
     "metadata": {},
     "output_type": "execute_result"
    }
   ],
   "source": [
    "meta1.category.head(5)"
   ]
  },
  {
   "cell_type": "markdown",
   "id": "aa806360",
   "metadata": {},
   "source": [
    "### CountVectorizer : 장르를 토큰으로 만들어 벡터 생성"
   ]
  },
  {
   "cell_type": "markdown",
   "id": "c622dfc2",
   "metadata": {},
   "source": [
    "pip install sklearn"
   ]
  },
  {
   "cell_type": "code",
   "execution_count": 8,
   "id": "0bdfc760",
   "metadata": {},
   "outputs": [],
   "source": [
    "from sklearn.feature_extraction.text import CountVectorizer\n",
    "counter_vector = CountVectorizer(ngram_range=(1,5))\n",
    "c_vector_category = counter_vector.fit_transform(meta1['category'])"
   ]
  },
  {
   "cell_type": "code",
   "execution_count": 9,
   "id": "5f751ad8",
   "metadata": {},
   "outputs": [
    {
     "data": {
      "text/plain": [
       "(1363, 1275)"
      ]
     },
     "execution_count": 9,
     "metadata": {},
     "output_type": "execute_result"
    }
   ],
   "source": [
    "c_vector_category.shape"
   ]
  },
  {
   "cell_type": "code",
   "execution_count": 10,
   "id": "846bc86c",
   "metadata": {},
   "outputs": [
    {
     "name": "stdout",
     "output_type": "stream",
     "text": [
      "[[   0    1   55 ... 1329 1328 1362]\n",
      " [   1   55   84 ... 1270 1271 1362]\n",
      " [   2   33   58 ... 1318 1319 1335]\n",
      " ...\n",
      " [1362 1351 1343 ...  900  901    0]\n",
      " [1362 1351 1343 ...  900  901    0]\n",
      " [1362 1351 1343 ...  900  901    0]]\n"
     ]
    }
   ],
   "source": [
    "#코사인 유사도 측정\n",
    "from sklearn.metrics.pairwise import cosine_similarity\n",
    "\n",
    "similarity_category = cosine_similarity(c_vector_category, c_vector_category).argsort()[:,::-1]\n",
    "print(similarity_category)"
   ]
  },
  {
   "cell_type": "code",
   "execution_count": 11,
   "id": "fbb1f2a8",
   "metadata": {},
   "outputs": [],
   "source": [
    "#카테고리 기반 유사도 기준으로 병원 추천\n",
    "#병원 이름 적으면, 유사한 카테고리의 병원 추천\n",
    "def find_sim_hospital_category(df, hospital_name, top_n=10):\n",
    "    #특정 병원 카테고리 뽑기\n",
    "    target_hopital_index = meta1[meta1['name'] == hospital_name].index.values\n",
    "    \n",
    "    #타겟 병원과 비슷한 코사인 유사도 값\n",
    "    sim_index = similarity_category[target_hopital_index, :top_n].reshape(-1)\n",
    "    #본인 제외\n",
    "    sim_index = sim_index[sim_index!=target_hopital_index]\n",
    "    \n",
    "    #추천결과 새로운 df 생성. 평균평점(score)로 정렬\n",
    "    result = df.iloc[sim_index].sort_values('average_rating',ascending=False)[:top_n]\n",
    "\n",
    "    return result"
   ]
  },
  {
   "cell_type": "code",
   "execution_count": 12,
   "id": "e69306d6",
   "metadata": {},
   "outputs": [
    {
     "data": {
      "text/html": [
       "<div>\n",
       "<style scoped>\n",
       "    .dataframe tbody tr th:only-of-type {\n",
       "        vertical-align: middle;\n",
       "    }\n",
       "\n",
       "    .dataframe tbody tr th {\n",
       "        vertical-align: top;\n",
       "    }\n",
       "\n",
       "    .dataframe thead th {\n",
       "        text-align: right;\n",
       "    }\n",
       "</style>\n",
       "<table border=\"1\" class=\"dataframe\">\n",
       "  <thead>\n",
       "    <tr style=\"text-align: right;\">\n",
       "      <th></th>\n",
       "      <th>id</th>\n",
       "      <th>name</th>\n",
       "      <th>location</th>\n",
       "      <th>phonenumber</th>\n",
       "      <th>category</th>\n",
       "      <th>province</th>\n",
       "      <th>xpos</th>\n",
       "      <th>ypos</th>\n",
       "      <th>average_rating</th>\n",
       "    </tr>\n",
       "  </thead>\n",
       "  <tbody>\n",
       "    <tr>\n",
       "      <th>13</th>\n",
       "      <td>14</td>\n",
       "      <td>동두천제일요양병원</td>\n",
       "      <td>경기도 동두천시 광암동 481-3번지</td>\n",
       "      <td>NaN</td>\n",
       "      <td>한방내과, 가정의학과, 재활의학과, 산부인과, 신경외과, 외과, 신경과, 내과</td>\n",
       "      <td>경기</td>\n",
       "      <td>127.082633</td>\n",
       "      <td>37.894908</td>\n",
       "      <td>5.0</td>\n",
       "    </tr>\n",
       "    <tr>\n",
       "      <th>26</th>\n",
       "      <td>27</td>\n",
       "      <td>로하스요양병원</td>\n",
       "      <td>경기도 동두천시 송내동 673-4번지</td>\n",
       "      <td>NaN</td>\n",
       "      <td>침구과, 한방내과, 가정의학과, 재활의학과, 이비인후과, 신경외과, 정형외과, 외과...</td>\n",
       "      <td>경기</td>\n",
       "      <td>127.053393</td>\n",
       "      <td>37.881560</td>\n",
       "      <td>4.0</td>\n",
       "    </tr>\n",
       "    <tr>\n",
       "      <th>16</th>\n",
       "      <td>17</td>\n",
       "      <td>로젠요양병원</td>\n",
       "      <td>경기도 동두천시 생연동 307-13번지</td>\n",
       "      <td>NaN</td>\n",
       "      <td>침구과, 한방내과, 가정의학과, 재활의학과, 비뇨의학과, 피부과, 소아청소년과, 신...</td>\n",
       "      <td>경기</td>\n",
       "      <td>127.062761</td>\n",
       "      <td>37.899207</td>\n",
       "      <td>4.0</td>\n",
       "    </tr>\n",
       "    <tr>\n",
       "      <th>25</th>\n",
       "      <td>26</td>\n",
       "      <td>연제의료생활협동조합가평명인암노인전문병원</td>\n",
       "      <td>경기도 가평군 상면 봉수리 49번지 4호</td>\n",
       "      <td>NaN</td>\n",
       "      <td>한방내과, 가정의학과, 마취통증의학과, 신경과, 내과</td>\n",
       "      <td>경기</td>\n",
       "      <td>127.304209</td>\n",
       "      <td>37.840848</td>\n",
       "      <td>3.4</td>\n",
       "    </tr>\n",
       "    <tr>\n",
       "      <th>44</th>\n",
       "      <td>45</td>\n",
       "      <td>메디힐포천요양병원</td>\n",
       "      <td>경기도 포천시 신북면 기지리 961-1번지</td>\n",
       "      <td>NaN</td>\n",
       "      <td>가정의학과, 재활의학과, 피부과, 정형외과, 외과, 신경과, 내과</td>\n",
       "      <td>경기</td>\n",
       "      <td>127.226191</td>\n",
       "      <td>37.934860</td>\n",
       "      <td>3.2</td>\n",
       "    </tr>\n",
       "    <tr>\n",
       "      <th>47</th>\n",
       "      <td>48</td>\n",
       "      <td>송추효자요양병원</td>\n",
       "      <td>경기도 양주시 백석읍기산리368-3</td>\n",
       "      <td>NaN</td>\n",
       "      <td>외과, 신경과, 내과</td>\n",
       "      <td>경기</td>\n",
       "      <td>126.937765</td>\n",
       "      <td>37.771043</td>\n",
       "      <td>3.0</td>\n",
       "    </tr>\n",
       "    <tr>\n",
       "      <th>34</th>\n",
       "      <td>35</td>\n",
       "      <td>의료법인양지의료재단양지요양병원</td>\n",
       "      <td>경기도 이천시 호법면 매곡리 990-1번지</td>\n",
       "      <td>NaN</td>\n",
       "      <td>한방재활의학과, 한방내과, 가정의학과, 외과, 신경과, 내과</td>\n",
       "      <td>경기</td>\n",
       "      <td>127.377768</td>\n",
       "      <td>37.187584</td>\n",
       "      <td>3.0</td>\n",
       "    </tr>\n",
       "    <tr>\n",
       "      <th>40</th>\n",
       "      <td>41</td>\n",
       "      <td>포천새맘요양병원</td>\n",
       "      <td>경기도 포천시 내촌면 소학리 314-8번지</td>\n",
       "      <td>NaN</td>\n",
       "      <td>침구과, 한방재활의학과, 한방내과, 가정의학과, 외과, 신경과, 내과</td>\n",
       "      <td>경기</td>\n",
       "      <td>127.248744</td>\n",
       "      <td>37.794550</td>\n",
       "      <td>2.5</td>\n",
       "    </tr>\n",
       "    <tr>\n",
       "      <th>53</th>\n",
       "      <td>54</td>\n",
       "      <td>송추요양병원</td>\n",
       "      <td>경기도 양주시 백석읍 기산리 317번지 5호</td>\n",
       "      <td>NaN</td>\n",
       "      <td>침구과, 한방내과, 가정의학과, 내과</td>\n",
       "      <td>경기</td>\n",
       "      <td>126.940708</td>\n",
       "      <td>37.776780</td>\n",
       "      <td>1.6</td>\n",
       "    </tr>\n",
       "  </tbody>\n",
       "</table>\n",
       "</div>"
      ],
      "text/plain": [
       "    id                   name                  location phonenumber  \\\n",
       "13  14              동두천제일요양병원      경기도 동두천시 광암동 481-3번지         NaN   \n",
       "26  27                로하스요양병원      경기도 동두천시 송내동 673-4번지         NaN   \n",
       "16  17                 로젠요양병원     경기도 동두천시 생연동 307-13번지         NaN   \n",
       "25  26  연제의료생활협동조합가평명인암노인전문병원    경기도 가평군 상면 봉수리 49번지 4호         NaN   \n",
       "44  45              메디힐포천요양병원   경기도 포천시 신북면 기지리 961-1번지         NaN   \n",
       "47  48               송추효자요양병원       경기도 양주시 백석읍기산리368-3         NaN   \n",
       "34  35       의료법인양지의료재단양지요양병원   경기도 이천시 호법면 매곡리 990-1번지         NaN   \n",
       "40  41               포천새맘요양병원   경기도 포천시 내촌면 소학리 314-8번지         NaN   \n",
       "53  54                 송추요양병원  경기도 양주시 백석읍 기산리 317번지 5호         NaN   \n",
       "\n",
       "                                             category province        xpos  \\\n",
       "13        한방내과, 가정의학과, 재활의학과, 산부인과, 신경외과, 외과, 신경과, 내과       경기  127.082633   \n",
       "26  침구과, 한방내과, 가정의학과, 재활의학과, 이비인후과, 신경외과, 정형외과, 외과...       경기  127.053393   \n",
       "16  침구과, 한방내과, 가정의학과, 재활의학과, 비뇨의학과, 피부과, 소아청소년과, 신...       경기  127.062761   \n",
       "25                      한방내과, 가정의학과, 마취통증의학과, 신경과, 내과       경기  127.304209   \n",
       "44               가정의학과, 재활의학과, 피부과, 정형외과, 외과, 신경과, 내과       경기  127.226191   \n",
       "47                                        외과, 신경과, 내과       경기  126.937765   \n",
       "34                  한방재활의학과, 한방내과, 가정의학과, 외과, 신경과, 내과       경기  127.377768   \n",
       "40             침구과, 한방재활의학과, 한방내과, 가정의학과, 외과, 신경과, 내과       경기  127.248744   \n",
       "53                               침구과, 한방내과, 가정의학과, 내과       경기  126.940708   \n",
       "\n",
       "         ypos  average_rating  \n",
       "13  37.894908             5.0  \n",
       "26  37.881560             4.0  \n",
       "16  37.899207             4.0  \n",
       "25  37.840848             3.4  \n",
       "44  37.934860             3.2  \n",
       "47  37.771043             3.0  \n",
       "34  37.187584             3.0  \n",
       "40  37.794550             2.5  \n",
       "53  37.776780             1.6  "
      ]
     },
     "execution_count": 12,
     "metadata": {},
     "output_type": "execute_result"
    }
   ],
   "source": [
    "find_sim_hospital_category(meta1, hospital_name='돌담요양병원')"
   ]
  },
  {
   "cell_type": "code",
   "execution_count": null,
   "id": "041166b9",
   "metadata": {},
   "outputs": [],
   "source": [
    "돌담병원 = 침구과, 한방내과, 가정의학과, 마취통증의학과, 외과, 신경과, 내과"
   ]
  },
  {
   "cell_type": "code",
   "execution_count": null,
   "id": "d20055ab",
   "metadata": {},
   "outputs": [],
   "source": []
  },
  {
   "cell_type": "code",
   "execution_count": null,
   "id": "c0de634e",
   "metadata": {},
   "outputs": [],
   "source": []
  },
  {
   "cell_type": "markdown",
   "id": "d37e082c",
   "metadata": {},
   "source": [
    "### TF-IDF 벡터화  \n",
    "단어를 갯수 그대로 카운트하지 않고 모든 문서에 공통적으로 들어있는 단어의 경우 문서 구별 능력이 떨어진다고 보아 가중치를 축소하는 방법"
   ]
  },
  {
   "cell_type": "code",
   "execution_count": 53,
   "id": "fc8be77c",
   "metadata": {},
   "outputs": [
    {
     "name": "stderr",
     "output_type": "stream",
     "text": [
      "C:\\Users\\leeej\\miniconda3\\envs\\practice\\lib\\site-packages\\sklearn\\utils\\deprecation.py:87: FutureWarning: Function get_feature_names is deprecated; get_feature_names is deprecated in 1.0 and will be removed in 1.2. Please use get_feature_names_out instead.\n",
      "  warnings.warn(msg, category=FutureWarning)\n"
     ]
    }
   ],
   "source": [
    "from sklearn.feature_extraction.text import TfidfVectorizer\n",
    "\n",
    "tfidf_vector = TfidfVectorizer()\n",
    "#tfidf_vector = TfidfVectorizer(ngram_range=(1,2))\n",
    "\n",
    "tfidf_matrix = tfidf_vector.fit_transform(meta1['category']).toarray()\n",
    "#tfidf_matrix = tfidf_vector.fit_transform(movie_data['genres'] + \" \" + movie_data['keywords']).toarray()\n",
    "tfidf_matrix_feature = tfidf_vector.get_feature_names()"
   ]
  },
  {
   "cell_type": "code",
   "execution_count": 54,
   "id": "ae3431df",
   "metadata": {},
   "outputs": [
    {
     "data": {
      "text/plain": [
       "(1348, 35)"
      ]
     },
     "execution_count": 54,
     "metadata": {},
     "output_type": "execute_result"
    }
   ],
   "source": [
    "tfidf_matrix.shape"
   ]
  },
  {
   "cell_type": "code",
   "execution_count": null,
   "id": "68250983",
   "metadata": {},
   "outputs": [],
   "source": []
  }
 ],
 "metadata": {
  "kernelspec": {
   "display_name": "practice",
   "language": "python",
   "name": "practice"
  },
  "language_info": {
   "codemirror_mode": {
    "name": "ipython",
    "version": 3
   },
   "file_extension": ".py",
   "mimetype": "text/x-python",
   "name": "python",
   "nbconvert_exporter": "python",
   "pygments_lexer": "ipython3",
   "version": "3.7.16"
  }
 },
 "nbformat": 4,
 "nbformat_minor": 5
}
